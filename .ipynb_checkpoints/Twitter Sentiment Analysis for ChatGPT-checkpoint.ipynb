{
 "cells": [
  {
   "cell_type": "markdown",
   "id": "60f069ac",
   "metadata": {},
   "source": [
    "# Twitter Sentiment Analysis for ChatGPT"
   ]
  },
  {
   "cell_type": "markdown",
   "id": "1b1d1fda",
   "metadata": {},
   "source": [
    "## 0. Notes\n",
    "* This project is based on the tweets about ChatGPT after the announcement about release of GPT-4. \n",
    "* The aim of the project is to determine the thoughts and tendencies of twitter users about ChatGPT, one of today's popular applications.\n",
    "* Various sources and Github repos were used in the project. Notes and references are given where relevant.\n",
    "* Since it takes a long time to extract the data, determine sentiment scores, etc., the processed version of the data was used. Notes and explanations have been made where relevant."
   ]
  },
  {
   "cell_type": "markdown",
   "id": "1f47afa2",
   "metadata": {},
   "source": [
    "## 1. Scraping Tweets Data"
   ]
  },
  {
   "cell_type": "markdown",
   "id": "cc47f9e6",
   "metadata": {},
   "source": [
    "* The \"snscrape\" library was used for tweet scraping.\n",
    "* You can review the notebook with detailed explanations from the link. \n",
    "* I would like to thank Yavuz Kömeçoğlu and MoreThan101 for this scrapping work.\n",
    "* https://github.com/yavuzKomecoglu/twitter-sentiment-analysis-morethan101"
   ]
  },
  {
   "cell_type": "markdown",
   "id": "9de5ca9c",
   "metadata": {},
   "source": [
    "## 2. Readind Data and Exploratory Data Analysis"
   ]
  },
  {
   "cell_type": "markdown",
   "id": "c7672a02",
   "metadata": {},
   "source": [
    "* The data consists of 100,000 tweets (include duplicates) in English containing the word \"chatgpt\" between 2023-03-18 and 2023-03-21.\n",
    "* In the shared data,  usernames are masked, tags (@username) and links in the tweet are deleted.\n",
    "* Variables;\n",
    "    * ID: unique tweet id\n",
    "    * Date: date the tweet was sent\n",
    "    * Username: username of the person who tweeted (masked for this data and non-real ids are generated)\n",
    "    * Tweet: content of the tweet (tags and links deleted)\n",
    "    * ReplyCount: number of replies to tweets\n",
    "    * RetweetCount: number of retweets to tweets\n",
    "    * LikeCount: number of likes to tweets\n",
    "    * QuotesCount: number of quotes to tweets"
   ]
  },
  {
   "cell_type": "markdown",
   "id": "1b7f927b",
   "metadata": {},
   "source": [
    "### 2.1 Importing Libraries"
   ]
  },
  {
   "cell_type": "markdown",
   "id": "641423bc",
   "metadata": {},
   "source": [
    "!pip install emoji"
   ]
  },
  {
   "cell_type": "code",
   "execution_count": 1,
   "id": "f803ec8c",
   "metadata": {},
   "outputs": [
    {
     "name": "stderr",
     "output_type": "stream",
     "text": [
      "[nltk_data] Downloading package punkt to\n",
      "[nltk_data]     C:\\Users\\PC\\AppData\\Roaming\\nltk_data...\n",
      "[nltk_data]   Package punkt is already up-to-date!\n",
      "[nltk_data] Downloading package stopwords to\n",
      "[nltk_data]     C:\\Users\\PC\\AppData\\Roaming\\nltk_data...\n",
      "[nltk_data]   Package stopwords is already up-to-date!\n"
     ]
    }
   ],
   "source": [
    "import pandas as pd\n",
    "import numpy as np\n",
    "import matplotlib.pyplot as plt\n",
    "import seaborn as sns\n",
    "import nltk\n",
    "from nltk.tokenize import word_tokenize\n",
    "from nltk.probability import FreqDist\n",
    "from nltk.corpus import stopwords\n",
    "from PIL import Image\n",
    "from wordcloud import WordCloud, STOPWORDS, ImageColorGenerator\n",
    "from transformers import AutoModelForSequenceClassification, AutoTokenizer, pipeline\n",
    "import re\n",
    "import emoji\n",
    "from tqdm.notebook import tqdm\n",
    "import warnings\n",
    "\n",
    "# Download NLTK data\n",
    "nltk.download('punkt')\n",
    "nltk.download('stopwords')\n",
    "\n",
    "# Set display options\n",
    "pd.set_option('display.float_format', '{:.4f}'.format)\n",
    "\n",
    "# Ignore warnings\n",
    "warnings.filterwarnings('ignore')"
   ]
  },
  {
   "cell_type": "markdown",
   "id": "88d7f0d5",
   "metadata": {},
   "source": [
    "### 2.2 Importing Data and First Impressions"
   ]
  },
  {
   "cell_type": "code",
   "execution_count": 2,
   "id": "ad1767d1",
   "metadata": {},
   "outputs": [
    {
     "name": "stdout",
     "output_type": "stream",
     "text": [
      "The number of unique tweets: 98759\n"
     ]
    }
   ],
   "source": [
    "# Reading dataset\n",
    "df = pd.read_csv(\"chatgpt-tweets-data-20230310-20230322.csv\")\n",
    "# Number of tweets\n",
    "print(\"The number of unique tweets:\", df.shape[0])"
   ]
  },
  {
   "cell_type": "code",
   "execution_count": 3,
   "id": "cc3edfba",
   "metadata": {},
   "outputs": [
    {
     "data": {
      "text/html": [
       "<div>\n",
       "<style scoped>\n",
       "    .dataframe tbody tr th:only-of-type {\n",
       "        vertical-align: middle;\n",
       "    }\n",
       "\n",
       "    .dataframe tbody tr th {\n",
       "        vertical-align: top;\n",
       "    }\n",
       "\n",
       "    .dataframe thead th {\n",
       "        text-align: right;\n",
       "    }\n",
       "</style>\n",
       "<table border=\"1\" class=\"dataframe\">\n",
       "  <thead>\n",
       "    <tr style=\"text-align: right;\">\n",
       "      <th></th>\n",
       "      <th>ID</th>\n",
       "      <th>Date</th>\n",
       "      <th>Username</th>\n",
       "      <th>Tweet</th>\n",
       "      <th>ReplyCount</th>\n",
       "      <th>RetweetCount</th>\n",
       "      <th>LikeCount</th>\n",
       "      <th>QuoteCount</th>\n",
       "    </tr>\n",
       "  </thead>\n",
       "  <tbody>\n",
       "    <tr>\n",
       "      <th>0</th>\n",
       "      <td>1638329623946878976</td>\n",
       "      <td>2023-03-21 23:59:55+00:00</td>\n",
       "      <td>lqgds36373</td>\n",
       "      <td>ChatGPT is another woke machine.</td>\n",
       "      <td>4</td>\n",
       "      <td>4</td>\n",
       "      <td>32</td>\n",
       "      <td>0</td>\n",
       "    </tr>\n",
       "    <tr>\n",
       "      <th>1</th>\n",
       "      <td>1638329621581275136</td>\n",
       "      <td>2023-03-21 23:59:55+00:00</td>\n",
       "      <td>yxwec12342</td>\n",
       "      <td>of the Atlantic, or only near the Atla #推特账号 m...</td>\n",
       "      <td>0</td>\n",
       "      <td>0</td>\n",
       "      <td>0</td>\n",
       "      <td>0</td>\n",
       "    </tr>\n",
       "    <tr>\n",
       "      <th>2</th>\n",
       "      <td>1638329600471171074</td>\n",
       "      <td>2023-03-21 23:59:50+00:00</td>\n",
       "      <td>cwsea23772</td>\n",
       "      <td>This thread is saved to your Notion database....</td>\n",
       "      <td>0</td>\n",
       "      <td>0</td>\n",
       "      <td>0</td>\n",
       "      <td>0</td>\n",
       "    </tr>\n",
       "    <tr>\n",
       "      <th>3</th>\n",
       "      <td>1638329587133194240</td>\n",
       "      <td>2023-03-21 23:59:46+00:00</td>\n",
       "      <td>jerje51666</td>\n",
       "      <td>Prompt AI – ChatGPT #0018</td>\n",
       "      <td>1</td>\n",
       "      <td>0</td>\n",
       "      <td>0</td>\n",
       "      <td>0</td>\n",
       "    </tr>\n",
       "    <tr>\n",
       "      <th>4</th>\n",
       "      <td>1638329567759802368</td>\n",
       "      <td>2023-03-21 23:59:42+00:00</td>\n",
       "      <td>wwxly15746</td>\n",
       "      <td>Just had some interesting conversations with G...</td>\n",
       "      <td>1</td>\n",
       "      <td>0</td>\n",
       "      <td>0</td>\n",
       "      <td>0</td>\n",
       "    </tr>\n",
       "  </tbody>\n",
       "</table>\n",
       "</div>"
      ],
      "text/plain": [
       "                    ID                       Date    Username  \\\n",
       "0  1638329623946878976  2023-03-21 23:59:55+00:00  lqgds36373   \n",
       "1  1638329621581275136  2023-03-21 23:59:55+00:00  yxwec12342   \n",
       "2  1638329600471171074  2023-03-21 23:59:50+00:00  cwsea23772   \n",
       "3  1638329587133194240  2023-03-21 23:59:46+00:00  jerje51666   \n",
       "4  1638329567759802368  2023-03-21 23:59:42+00:00  wwxly15746   \n",
       "\n",
       "                                               Tweet  ReplyCount  \\\n",
       "0                  ChatGPT is another woke machine.            4   \n",
       "1  of the Atlantic, or only near the Atla #推特账号 m...           0   \n",
       "2   This thread is saved to your Notion database....           0   \n",
       "3                         Prompt AI – ChatGPT #0018            1   \n",
       "4  Just had some interesting conversations with G...           1   \n",
       "\n",
       "   RetweetCount  LikeCount  QuoteCount  \n",
       "0             4         32           0  \n",
       "1             0          0           0  \n",
       "2             0          0           0  \n",
       "3             0          0           0  \n",
       "4             0          0           0  "
      ]
     },
     "execution_count": 3,
     "metadata": {},
     "output_type": "execute_result"
    }
   ],
   "source": [
    "df.head()"
   ]
  },
  {
   "cell_type": "code",
   "execution_count": 4,
   "id": "cd68b68b",
   "metadata": {},
   "outputs": [
    {
     "name": "stdout",
     "output_type": "stream",
     "text": [
      "<class 'pandas.core.frame.DataFrame'>\n",
      "RangeIndex: 98759 entries, 0 to 98758\n",
      "Data columns (total 8 columns):\n",
      " #   Column        Non-Null Count  Dtype \n",
      "---  ------        --------------  ----- \n",
      " 0   ID            98759 non-null  int64 \n",
      " 1   Date          98759 non-null  object\n",
      " 2   Username      98759 non-null  object\n",
      " 3   Tweet         98759 non-null  object\n",
      " 4   ReplyCount    98759 non-null  int64 \n",
      " 5   RetweetCount  98759 non-null  int64 \n",
      " 6   LikeCount     98759 non-null  int64 \n",
      " 7   QuoteCount    98759 non-null  int64 \n",
      "dtypes: int64(5), object(3)\n",
      "memory usage: 6.0+ MB\n"
     ]
    }
   ],
   "source": [
    "df.info()"
   ]
  },
  {
   "cell_type": "code",
   "execution_count": 5,
   "id": "58564429",
   "metadata": {},
   "outputs": [
    {
     "data": {
      "text/html": [
       "<div>\n",
       "<style scoped>\n",
       "    .dataframe tbody tr th:only-of-type {\n",
       "        vertical-align: middle;\n",
       "    }\n",
       "\n",
       "    .dataframe tbody tr th {\n",
       "        vertical-align: top;\n",
       "    }\n",
       "\n",
       "    .dataframe thead th {\n",
       "        text-align: right;\n",
       "    }\n",
       "</style>\n",
       "<table border=\"1\" class=\"dataframe\">\n",
       "  <thead>\n",
       "    <tr style=\"text-align: right;\">\n",
       "      <th></th>\n",
       "      <th>count</th>\n",
       "      <th>mean</th>\n",
       "      <th>std</th>\n",
       "      <th>min</th>\n",
       "      <th>25%</th>\n",
       "      <th>50%</th>\n",
       "      <th>75%</th>\n",
       "      <th>max</th>\n",
       "    </tr>\n",
       "  </thead>\n",
       "  <tbody>\n",
       "    <tr>\n",
       "      <th>ID</th>\n",
       "      <td>98759.0000</td>\n",
       "      <td>1637481406058671104.0000</td>\n",
       "      <td>563281176533015.5000</td>\n",
       "      <td>1636521747540242432.0000</td>\n",
       "      <td>1636926715759888384.0000</td>\n",
       "      <td>1637527761219645440.0000</td>\n",
       "      <td>1637975215293546496.0000</td>\n",
       "      <td>1638329623946878976.0000</td>\n",
       "    </tr>\n",
       "    <tr>\n",
       "      <th>ReplyCount</th>\n",
       "      <td>98759.0000</td>\n",
       "      <td>1.3467</td>\n",
       "      <td>32.8560</td>\n",
       "      <td>0.0000</td>\n",
       "      <td>0.0000</td>\n",
       "      <td>0.0000</td>\n",
       "      <td>1.0000</td>\n",
       "      <td>4984.0000</td>\n",
       "    </tr>\n",
       "    <tr>\n",
       "      <th>RetweetCount</th>\n",
       "      <td>98759.0000</td>\n",
       "      <td>1.3948</td>\n",
       "      <td>35.9637</td>\n",
       "      <td>0.0000</td>\n",
       "      <td>0.0000</td>\n",
       "      <td>0.0000</td>\n",
       "      <td>0.0000</td>\n",
       "      <td>4076.0000</td>\n",
       "    </tr>\n",
       "    <tr>\n",
       "      <th>LikeCount</th>\n",
       "      <td>98759.0000</td>\n",
       "      <td>9.7873</td>\n",
       "      <td>245.5766</td>\n",
       "      <td>0.0000</td>\n",
       "      <td>0.0000</td>\n",
       "      <td>0.0000</td>\n",
       "      <td>2.0000</td>\n",
       "      <td>36112.0000</td>\n",
       "    </tr>\n",
       "    <tr>\n",
       "      <th>QuoteCount</th>\n",
       "      <td>98759.0000</td>\n",
       "      <td>0.2590</td>\n",
       "      <td>19.7567</td>\n",
       "      <td>0.0000</td>\n",
       "      <td>0.0000</td>\n",
       "      <td>0.0000</td>\n",
       "      <td>0.0000</td>\n",
       "      <td>5415.0000</td>\n",
       "    </tr>\n",
       "  </tbody>\n",
       "</table>\n",
       "</div>"
      ],
      "text/plain": [
       "                  count                     mean                  std  \\\n",
       "ID           98759.0000 1637481406058671104.0000 563281176533015.5000   \n",
       "ReplyCount   98759.0000                   1.3467              32.8560   \n",
       "RetweetCount 98759.0000                   1.3948              35.9637   \n",
       "LikeCount    98759.0000                   9.7873             245.5766   \n",
       "QuoteCount   98759.0000                   0.2590              19.7567   \n",
       "\n",
       "                                  min                      25%  \\\n",
       "ID           1636521747540242432.0000 1636926715759888384.0000   \n",
       "ReplyCount                     0.0000                   0.0000   \n",
       "RetweetCount                   0.0000                   0.0000   \n",
       "LikeCount                      0.0000                   0.0000   \n",
       "QuoteCount                     0.0000                   0.0000   \n",
       "\n",
       "                                  50%                      75%  \\\n",
       "ID           1637527761219645440.0000 1637975215293546496.0000   \n",
       "ReplyCount                     0.0000                   1.0000   \n",
       "RetweetCount                   0.0000                   0.0000   \n",
       "LikeCount                      0.0000                   2.0000   \n",
       "QuoteCount                     0.0000                   0.0000   \n",
       "\n",
       "                                  max  \n",
       "ID           1638329623946878976.0000  \n",
       "ReplyCount                  4984.0000  \n",
       "RetweetCount                4076.0000  \n",
       "LikeCount                  36112.0000  \n",
       "QuoteCount                  5415.0000  "
      ]
     },
     "execution_count": 5,
     "metadata": {},
     "output_type": "execute_result"
    }
   ],
   "source": [
    "df.describe().T"
   ]
  },
  {
   "cell_type": "markdown",
   "id": "8aca7572",
   "metadata": {},
   "source": [
    "### 2.3 Generating New Time Variables"
   ]
  },
  {
   "cell_type": "code",
   "execution_count": 6,
   "id": "bfc09829",
   "metadata": {},
   "outputs": [],
   "source": [
    "# Generating new time variables\n",
    "df['Date'] = pd.to_datetime(df['Date'])\n",
    "df['OnlyDate'] = df['Date'].dt.date\n",
    "df['OnlyDate'] = pd.to_datetime(df['OnlyDate'])\n",
    "df['OnlyHour'] = df['Date'].dt.hour\n",
    "df['OnlyMin'] = df['Date'].dt.minute"
   ]
  },
  {
   "cell_type": "code",
   "execution_count": 7,
   "id": "641c3169",
   "metadata": {},
   "outputs": [
    {
     "name": "stdout",
     "output_type": "stream",
     "text": [
      "<class 'pandas.core.frame.DataFrame'>\n",
      "RangeIndex: 98759 entries, 0 to 98758\n",
      "Data columns (total 11 columns):\n",
      " #   Column        Non-Null Count  Dtype              \n",
      "---  ------        --------------  -----              \n",
      " 0   ID            98759 non-null  int64              \n",
      " 1   Date          98759 non-null  datetime64[ns, UTC]\n",
      " 2   Username      98759 non-null  object             \n",
      " 3   Tweet         98759 non-null  object             \n",
      " 4   ReplyCount    98759 non-null  int64              \n",
      " 5   RetweetCount  98759 non-null  int64              \n",
      " 6   LikeCount     98759 non-null  int64              \n",
      " 7   QuoteCount    98759 non-null  int64              \n",
      " 8   OnlyDate      98759 non-null  datetime64[ns]     \n",
      " 9   OnlyHour      98759 non-null  int64              \n",
      " 10  OnlyMin       98759 non-null  int64              \n",
      "dtypes: datetime64[ns, UTC](1), datetime64[ns](1), int64(7), object(2)\n",
      "memory usage: 8.3+ MB\n"
     ]
    },
    {
     "data": {
      "text/html": [
       "<div>\n",
       "<style scoped>\n",
       "    .dataframe tbody tr th:only-of-type {\n",
       "        vertical-align: middle;\n",
       "    }\n",
       "\n",
       "    .dataframe tbody tr th {\n",
       "        vertical-align: top;\n",
       "    }\n",
       "\n",
       "    .dataframe thead th {\n",
       "        text-align: right;\n",
       "    }\n",
       "</style>\n",
       "<table border=\"1\" class=\"dataframe\">\n",
       "  <thead>\n",
       "    <tr style=\"text-align: right;\">\n",
       "      <th></th>\n",
       "      <th>ID</th>\n",
       "      <th>Date</th>\n",
       "      <th>Username</th>\n",
       "      <th>Tweet</th>\n",
       "      <th>ReplyCount</th>\n",
       "      <th>RetweetCount</th>\n",
       "      <th>LikeCount</th>\n",
       "      <th>QuoteCount</th>\n",
       "      <th>OnlyDate</th>\n",
       "      <th>OnlyHour</th>\n",
       "      <th>OnlyMin</th>\n",
       "    </tr>\n",
       "  </thead>\n",
       "  <tbody>\n",
       "    <tr>\n",
       "      <th>0</th>\n",
       "      <td>1638329623946878976</td>\n",
       "      <td>2023-03-21 23:59:55+00:00</td>\n",
       "      <td>lqgds36373</td>\n",
       "      <td>ChatGPT is another woke machine.</td>\n",
       "      <td>4</td>\n",
       "      <td>4</td>\n",
       "      <td>32</td>\n",
       "      <td>0</td>\n",
       "      <td>2023-03-21</td>\n",
       "      <td>23</td>\n",
       "      <td>59</td>\n",
       "    </tr>\n",
       "    <tr>\n",
       "      <th>1</th>\n",
       "      <td>1638329621581275136</td>\n",
       "      <td>2023-03-21 23:59:55+00:00</td>\n",
       "      <td>yxwec12342</td>\n",
       "      <td>of the Atlantic, or only near the Atla #推特账号 m...</td>\n",
       "      <td>0</td>\n",
       "      <td>0</td>\n",
       "      <td>0</td>\n",
       "      <td>0</td>\n",
       "      <td>2023-03-21</td>\n",
       "      <td>23</td>\n",
       "      <td>59</td>\n",
       "    </tr>\n",
       "    <tr>\n",
       "      <th>2</th>\n",
       "      <td>1638329600471171074</td>\n",
       "      <td>2023-03-21 23:59:50+00:00</td>\n",
       "      <td>cwsea23772</td>\n",
       "      <td>This thread is saved to your Notion database....</td>\n",
       "      <td>0</td>\n",
       "      <td>0</td>\n",
       "      <td>0</td>\n",
       "      <td>0</td>\n",
       "      <td>2023-03-21</td>\n",
       "      <td>23</td>\n",
       "      <td>59</td>\n",
       "    </tr>\n",
       "    <tr>\n",
       "      <th>3</th>\n",
       "      <td>1638329587133194240</td>\n",
       "      <td>2023-03-21 23:59:46+00:00</td>\n",
       "      <td>jerje51666</td>\n",
       "      <td>Prompt AI – ChatGPT #0018</td>\n",
       "      <td>1</td>\n",
       "      <td>0</td>\n",
       "      <td>0</td>\n",
       "      <td>0</td>\n",
       "      <td>2023-03-21</td>\n",
       "      <td>23</td>\n",
       "      <td>59</td>\n",
       "    </tr>\n",
       "    <tr>\n",
       "      <th>4</th>\n",
       "      <td>1638329567759802368</td>\n",
       "      <td>2023-03-21 23:59:42+00:00</td>\n",
       "      <td>wwxly15746</td>\n",
       "      <td>Just had some interesting conversations with G...</td>\n",
       "      <td>1</td>\n",
       "      <td>0</td>\n",
       "      <td>0</td>\n",
       "      <td>0</td>\n",
       "      <td>2023-03-21</td>\n",
       "      <td>23</td>\n",
       "      <td>59</td>\n",
       "    </tr>\n",
       "  </tbody>\n",
       "</table>\n",
       "</div>"
      ],
      "text/plain": [
       "                    ID                      Date    Username  \\\n",
       "0  1638329623946878976 2023-03-21 23:59:55+00:00  lqgds36373   \n",
       "1  1638329621581275136 2023-03-21 23:59:55+00:00  yxwec12342   \n",
       "2  1638329600471171074 2023-03-21 23:59:50+00:00  cwsea23772   \n",
       "3  1638329587133194240 2023-03-21 23:59:46+00:00  jerje51666   \n",
       "4  1638329567759802368 2023-03-21 23:59:42+00:00  wwxly15746   \n",
       "\n",
       "                                               Tweet  ReplyCount  \\\n",
       "0                  ChatGPT is another woke machine.            4   \n",
       "1  of the Atlantic, or only near the Atla #推特账号 m...           0   \n",
       "2   This thread is saved to your Notion database....           0   \n",
       "3                         Prompt AI – ChatGPT #0018            1   \n",
       "4  Just had some interesting conversations with G...           1   \n",
       "\n",
       "   RetweetCount  LikeCount  QuoteCount   OnlyDate  OnlyHour  OnlyMin  \n",
       "0             4         32           0 2023-03-21        23       59  \n",
       "1             0          0           0 2023-03-21        23       59  \n",
       "2             0          0           0 2023-03-21        23       59  \n",
       "3             0          0           0 2023-03-21        23       59  \n",
       "4             0          0           0 2023-03-21        23       59  "
      ]
     },
     "execution_count": 7,
     "metadata": {},
     "output_type": "execute_result"
    }
   ],
   "source": [
    "df.info()\n",
    "df.head()"
   ]
  },
  {
   "cell_type": "code",
   "execution_count": 8,
   "id": "616c2233",
   "metadata": {},
   "outputs": [
    {
     "data": {
      "text/plain": [
       "2023-03-21    25074\n",
       "2023-03-17    22923\n",
       "2023-03-20    20790\n",
       "2023-03-19    15187\n",
       "2023-03-18    14785\n",
       "Name: OnlyDate, dtype: int64"
      ]
     },
     "execution_count": 8,
     "metadata": {},
     "output_type": "execute_result"
    }
   ],
   "source": [
    "df['OnlyDate'].value_counts()"
   ]
  },
  {
   "cell_type": "markdown",
   "id": "3ab508d2",
   "metadata": {},
   "source": [
    "### 2.4 First Exploratory Data Analysis Works"
   ]
  },
  {
   "cell_type": "markdown",
   "id": "45d840bd",
   "metadata": {},
   "source": [
    "df['Date'].value_counts().resample('d').sum()"
   ]
  },
  {
   "cell_type": "markdown",
   "id": "2addb1c9",
   "metadata": {},
   "source": [
    "df['OnlyHour'].value_counts().sort_index"
   ]
  },
  {
   "cell_type": "code",
   "execution_count": 9,
   "id": "3671068f",
   "metadata": {},
   "outputs": [],
   "source": [
    "def plot_time_variable(col, ylim_lower = 10000, ylim_upper = 30000):\n",
    "    \"\"\"\n",
    "    Given a pandas dataframe and the name of a time column, this function will plot a line graph of time counts\n",
    "    using the specified column.\n",
    "    \n",
    "    Parameters:\n",
    "    -----------\n",
    "    col : str\n",
    "        The name of a column in the pandas dataframe.\n",
    "    \"\"\"\n",
    "    \n",
    "    if df[col].dtype == \"int64\":\n",
    "        time_variable_counts = df[col].value_counts().sort_index()\n",
    "        \n",
    "    else:\n",
    "        # calculate the count of dates using resample\n",
    "        time_variable_counts = df[col].value_counts().resample('D').sum()\n",
    "\n",
    "    # set the size of the figure\n",
    "    plt.figure(figsize=(12, 8))\n",
    "\n",
    "    # plot the counts using a line graph\n",
    "    time_variable_counts.plot(kind='line', marker='o', markersize=8)\n",
    "\n",
    "    # set the y-axis limits to a specific range\n",
    "    plt.ylim(ylim_lower, ylim_upper)\n",
    "\n",
    "    # add graph labels and titles\n",
    "    plt.title(f\"{col} Counts\", fontsize=16)\n",
    "    plt.xlabel(f\"{col}\", fontsize=14)\n",
    "    plt.ylabel(\"Count\", fontsize=14)\n",
    "    plt.xticks(rotation=45, ha='right') # rotate x-axis labels for readability\n",
    "    plt.grid(axis='y', linestyle='--')\n",
    "\n",
    "    # display the graph\n",
    "    plt.show()"
   ]
  },
  {
   "cell_type": "code",
   "execution_count": 10,
   "id": "7d601bfa",
   "metadata": {},
   "outputs": [
    {
     "data": {
      "image/png": "[encoded data removed]",
      "text/plain": [
       "<Figure size 864x576 with 1 Axes>"
      ]
     },
     "metadata": {
      "needs_background": "light"
     },
     "output_type": "display_data"
    }
   ],
   "source": [
    "plot_time_variable('OnlyDate')"
   ]
  },
  {
   "cell_type": "code",
   "execution_count": 11,
   "id": "a55cfc17",
   "metadata": {
    "scrolled": true
   },
   "outputs": [
    {
     "data": {
      "image/png": "[encoded data removed]",
      "text/plain": [
       "<Figure size 864x576 with 1 Axes>"
      ]
     },
     "metadata": {
      "needs_background": "light"
     },
     "output_type": "display_data"
    }
   ],
   "source": [
    "plot_time_variable('OnlyHour', 2000,6500)"
   ]
  },
  {
   "cell_type": "code",
   "execution_count": 12,
   "id": "722be2c3",
   "metadata": {},
   "outputs": [],
   "source": [
    "def get_top_words(df, column_name, top_n=20):\n",
    "    # get the list of tweets from the specified column\n",
    "    tweets = df[column_name].astype(str).tolist()\n",
    "    \n",
    "    # tokenize all the words from the tweets\n",
    "    words = []\n",
    "    for tweet in tweets:\n",
    "        words += word_tokenize(tweet.lower())  # convert to lowercase and tokenize the tweet\n",
    "\n",
    "    # calculate the frequency distribution of words\n",
    "    freq_dist = FreqDist(words)\n",
    "\n",
    "    # return the top n most common words\n",
    "    return freq_dist.most_common(top_n)"
   ]
  },
  {
   "cell_type": "code",
   "execution_count": 13,
   "id": "452f4064",
   "metadata": {},
   "outputs": [
    {
     "data": {
      "text/plain": [
       "[('#', 105632),\n",
       " ('chatgpt', 87176),\n",
       " ('.', 80118),\n",
       " (',', 64766),\n",
       " ('the', 64059),\n",
       " ('to', 61979),\n",
       " ('a', 42551),\n",
       " ('and', 42077),\n",
       " ('it', 36961),\n",
       " ('i', 36778),\n",
       " ('is', 34170),\n",
       " ('of', 32172),\n",
       " ('for', 24737),\n",
       " ('in', 22758),\n",
       " ('you', 22560),\n",
       " ('ai', 21761),\n",
       " (':', 19586),\n",
       " ('?', 19311),\n",
       " ('that', 18500),\n",
       " ('with', 17939)]"
      ]
     },
     "execution_count": 13,
     "metadata": {},
     "output_type": "execute_result"
    }
   ],
   "source": [
    "get_top_words(df, \"Tweet\", 20)"
   ]
  },
  {
   "cell_type": "markdown",
   "id": "315b81ca",
   "metadata": {},
   "source": [
    "## 3. Data Preprocessing for Sentiment Analysis and Model"
   ]
  },
  {
   "cell_type": "markdown",
   "id": "bebdc0ad",
   "metadata": {},
   "source": [
    "* Trained model from huggingface\n",
    "* https://huggingface.co/cardiffnlp/twitter-roberta-base-sentiment-latest"
   ]
  },
  {
   "cell_type": "markdown",
   "id": "a9796510",
   "metadata": {},
   "source": [
    "### 3.1 Loading Model from HuggingFace and Creating Pipeline"
   ]
  },
  {
   "cell_type": "code",
   "execution_count": 2,
   "id": "dc458342",
   "metadata": {
    "scrolled": false
   },
   "outputs": [
    {
     "name": "stderr",
     "output_type": "stream",
     "text": [
      "Some weights of the model checkpoint at cardiffnlp/twitter-roberta-base-sentiment-latest were not used when initializing RobertaForSequenceClassification: ['roberta.pooler.dense.weight', 'roberta.pooler.dense.bias']\n",
      "- This IS expected if you are initializing RobertaForSequenceClassification from the checkpoint of a model trained on another task or with another architecture (e.g. initializing a BertForSequenceClassification model from a BertForPreTraining model).\n",
      "- This IS NOT expected if you are initializing RobertaForSequenceClassification from the checkpoint of a model that you expect to be exactly identical (initializing a BertForSequenceClassification model from a BertForSequenceClassification model).\n"
     ]
    }
   ],
   "source": [
    "# load model and tokenizer\n",
    "model = AutoModelForSequenceClassification.from_pretrained(\"cardiffnlp/twitter-roberta-base-sentiment-latest\")\n",
    "tokenizer = AutoTokenizer.from_pretrained(\"cardiffnlp/twitter-roberta-base-sentiment-latest\")\n",
    "\n",
    "# create pipeline\n",
    "sa = pipeline(\"sentiment-analysis\", tokenizer=tokenizer, model=model)"
   ]
  },
  {
   "cell_type": "markdown",
   "id": "b01f7609",
   "metadata": {},
   "source": [
    "### 3.2 Preprocessing for Sentiment Labeling and Scoring"
   ]
  },
  {
   "cell_type": "code",
   "execution_count": 3,
   "id": "da1e3287",
   "metadata": {},
   "outputs": [],
   "source": [
    "def preprocess_word(word):\n",
    "    # Remove punctuation\n",
    "    #word = word.strip('\\'\"?!,.():;')\n",
    "    \n",
    "    # Convert more than 2 letter repetitions to 2 letter\n",
    "    # funnnnny --> funny\n",
    "    word = re.sub(r'(.)\\1+', r'\\1\\1', word)\n",
    "    # Remove - & '\n",
    "    word = re.sub(r'(-|\\')', '', word)\n",
    "    return word\n",
    "\n",
    "\n",
    "def is_valid_word(word):\n",
    "    # Check if word begins with an alphabet\n",
    "    return (re.search(r'^[a-zA-Z][a-z0-9A-Z\\._]*$', word) is not None)\n",
    "\n",
    "\n",
    "def handle_emojis(tweet):\n",
    "    # Smile -- :), : ), :-), (:, ( :, (-:, :')\n",
    "    tweet = re.sub(r'(:\\s?\\)|:-\\)|\\(\\s?:|\\(-:|:\\'\\))', ' EMO_POS ', tweet)\n",
    "    # Laugh -- :D, : D, :-D, xD, x-D, XD, X-D\n",
    "    tweet = re.sub(r'(:\\s?D|:-D|x-?D|X-?D)', ' EMO_POS ', tweet)\n",
    "    # Love -- <3, :*\n",
    "    tweet = re.sub(r'(<3|:\\*)', ' EMO_POS ', tweet)\n",
    "    # Wink -- ;-), ;), ;-D, ;D, (;,  (-;\n",
    "    tweet = re.sub(r'(;-?\\)|;-?D|\\(-?;)|😉', ' EMO_POS ', tweet)\n",
    "    # Sad -- :-(, : (, :(, ):, )-:\n",
    "    tweet = re.sub(r'(:\\s?\\(|:-\\(|\\)\\s?:|\\)-:)', ' EMO_NEG ', tweet)\n",
    "    # Cry -- :,(, :'(, :\"(\n",
    "    tweet = re.sub(r'(:,\\(|:\\'\\(|:\"\\()', ' EMO_NEG ', tweet)\n",
    "    return tweet\n",
    "\n",
    "\n",
    "def remove_emoji(tweet):\n",
    "    return emoji.replace_emoji(tweet, replace=\" \")\n",
    "\n",
    "\n",
    "def preprocess_tweet(tweet):\n",
    "    processed_tweet = []\n",
    "    # Convert to lower case\n",
    "    tweet = tweet.lower()\n",
    "    \n",
    "    #Clean only digits\n",
    "    tweet = re.sub(\"^\\d+\\s|\\s\\d+\\s|\\s\\d+$\", \" \", tweet)\n",
    "    \n",
    "    # Replaces URLs with the word URL\n",
    "    #tweet = re.sub(r'((www\\.[\\S]+)|(https?://[\\S]+))', ' URL ', tweet)\n",
    "    tweet = re.sub(r'((www\\.[\\S]+)|(https?://[\\S]+))', '', tweet)\n",
    "    \n",
    "    # Replace @handle with the word USER_MENTION\n",
    "    #tweet = re.sub(r'@[\\S]+', 'USER_MENTION', tweet)\n",
    "    tweet = re.sub(r'@[\\S]+', '', tweet)\n",
    "    \n",
    "    # Replaces #hashtag with hashtag\n",
    "    #tweet = re.sub(r'#(\\S+)', r' \\1 ', tweet)\n",
    "    tweet = re.sub(r'#(\\S+)', '', tweet)\n",
    "    \n",
    "    # Remove RT (retweet)\n",
    "    tweet = re.sub(r'\\brt\\b', '', tweet)\n",
    "    \n",
    "    # Replace 2+ dots with space\n",
    "    tweet = re.sub(r'\\.{2,}', ' ', tweet)\n",
    "    \n",
    "    # Strip space, \" and ' from tweet\n",
    "    tweet = tweet.strip(' \"\\'')\n",
    "\n",
    "    # Replace emojis with either EMO_POS or EMO_NEG\n",
    "    #tweet = handle_emojis(tweet)\n",
    "\n",
    "    #remove emojis\n",
    "    tweet = remove_emoji(tweet)\n",
    "    \n",
    "    # Replace multiple spaces with a single space\n",
    "    tweet = re.sub(r'\\s+', ' ', tweet)\n",
    "    words = tweet.split()\n",
    "\n",
    "    for word in words:\n",
    "        word = preprocess_word(word)\n",
    "        processed_tweet.append(word)\n",
    "\n",
    "    return ' '.join(processed_tweet)"
   ]
  },
  {
   "cell_type": "code",
   "execution_count": 16,
   "id": "977fa09a",
   "metadata": {},
   "outputs": [
    {
     "name": "stdout",
     "output_type": "stream",
     "text": [
      "Kind of wild that Google just admits their training dataset is your gmail &amp; you’re not getting compensated for any of it.\n",
      "Considering the amount of data that includes it  guarantees that  if Bard can give ChatGPT a fight, we just entrenched 2 old monopolies &amp; have a legal case\n",
      "[{'label': 'negative', 'score': 0.6108611226081848}]\n"
     ]
    }
   ],
   "source": [
    "index = 2019\n",
    "print(df.loc[index].Tweet)\n",
    "p = sa(df.loc[index].Tweet)\n",
    "print(p)"
   ]
  },
  {
   "cell_type": "code",
   "execution_count": 17,
   "id": "b8921369",
   "metadata": {},
   "outputs": [
    {
     "name": "stdout",
     "output_type": "stream",
     "text": [
      "kind of wild that google just admits their training dataset is your gmail &amp; you’re not getting compensated for any of it. considering the amount of data that includes it guarantees that if bard can give chatgpt a fight, we just entrenched old monopolies &amp; have a legal case\n",
      "[{'label': 'negative', 'score': 0.6796212196350098}]\n"
     ]
    }
   ],
   "source": [
    "pre_twit = preprocess_tweet(df.loc[index].Tweet)\n",
    "print(pre_twit)\n",
    "p = sa(pre_twit)\n",
    "print(p)"
   ]
  },
  {
   "cell_type": "code",
   "execution_count": 18,
   "id": "2ca7d806",
   "metadata": {},
   "outputs": [],
   "source": [
    "df[\"processed_tweet\"] = df[\"Tweet\"].apply(preprocess_tweet)"
   ]
  },
  {
   "cell_type": "code",
   "execution_count": 19,
   "id": "a3941e5a",
   "metadata": {},
   "outputs": [],
   "source": [
    "pd.set_option('display.max_colwidth', None)"
   ]
  },
  {
   "cell_type": "code",
   "execution_count": 20,
   "id": "99eb3eee",
   "metadata": {
    "scrolled": true
   },
   "outputs": [
    {
     "data": {
      "text/html": [
       "<div>\n",
       "<style scoped>\n",
       "    .dataframe tbody tr th:only-of-type {\n",
       "        vertical-align: middle;\n",
       "    }\n",
       "\n",
       "    .dataframe tbody tr th {\n",
       "        vertical-align: top;\n",
       "    }\n",
       "\n",
       "    .dataframe thead th {\n",
       "        text-align: right;\n",
       "    }\n",
       "</style>\n",
       "<table border=\"1\" class=\"dataframe\">\n",
       "  <thead>\n",
       "    <tr style=\"text-align: right;\">\n",
       "      <th></th>\n",
       "      <th>Tweet</th>\n",
       "      <th>processed_tweet</th>\n",
       "    </tr>\n",
       "  </thead>\n",
       "  <tbody>\n",
       "    <tr>\n",
       "      <th>0</th>\n",
       "      <td>ChatGPT is another woke machine.</td>\n",
       "      <td>chatgpt is another woke machine.</td>\n",
       "    </tr>\n",
       "    <tr>\n",
       "      <th>1</th>\n",
       "      <td>of the Atlantic, or only near the Atla #推特账号 more to me than the greenness or th</td>\n",
       "      <td>of the atlantic, or only near the atla more to me than the greenness or th</td>\n",
       "    </tr>\n",
       "    <tr>\n",
       "      <th>2</th>\n",
       "      <td>This thread is saved to your Notion database.\\n\\nTags: [Chatgpt]</td>\n",
       "      <td>this thread is saved to your notion database. tags: [chatgpt]</td>\n",
       "    </tr>\n",
       "    <tr>\n",
       "      <th>3</th>\n",
       "      <td>Prompt AI – ChatGPT #0018</td>\n",
       "      <td>prompt ai – chatgpt</td>\n",
       "    </tr>\n",
       "    <tr>\n",
       "      <th>4</th>\n",
       "      <td>Just had some interesting conversations with Google's Bard. It appears more confident in its replies compared to ChatGPT. Early days though. Shape of things to come? Yes.</td>\n",
       "      <td>just had some interesting conversations with googles bard. it appears more confident in its replies compared to chatgpt. early days though. shape of things to come? yes.</td>\n",
       "    </tr>\n",
       "    <tr>\n",
       "      <th>5</th>\n",
       "      <td>Copilot has actually been useful for me though, it routinely writes chunks of code for me that require little to no modification. I haven't figured out how to leverage ChatGPT effectively yet.</td>\n",
       "      <td>copilot has actually been useful for me though, it routinely writes chunks of code for me that require little to no modification. i havent figured out how to leverage chatgpt effectively yet.</td>\n",
       "    </tr>\n",
       "    <tr>\n",
       "      <th>6</th>\n",
       "      <td>i had chatgpt analyze my ocs after askin a bunch of questions and it was really fun in the moment but i literally have nothing i can do with all these answers besides think about them bc who wants to hear character analysis on characters you cant even see</td>\n",
       "      <td>i had chatgpt analyze my ocs after askin a bunch of questions and it was really fun in the moment but i literally have nothing i can do with all these answers besides think about them bc who wants to hear character analysis on characters you cant even see</td>\n",
       "    </tr>\n",
       "    <tr>\n",
       "      <th>7</th>\n",
       "      <td>You are a smart guy Mark.  You should be able to recognize ChatGPT is brought to you by the same MONORAIL! salesmen who sold you Crypto, self driving, and NFTs. The technology is not what they claim it is.  You can tell by how the use case is \"writing\" poems abt your pets.</td>\n",
       "      <td>you are a smart guy mark. you should be able to recognize chatgpt is brought to you by the same monorail! salesmen who sold you crypto, self driving, and nfts. the technology is not what they claim it is. you can tell by how the use case is \"writing\" poems abt your pets.</td>\n",
       "    </tr>\n",
       "    <tr>\n",
       "      <th>8</th>\n",
       "      <td>I was just going to say ask ChatGPT</td>\n",
       "      <td>i was just going to say ask chatgpt</td>\n",
       "    </tr>\n",
       "    <tr>\n",
       "      <th>9</th>\n",
       "      <td>Browsing through the ChatGPT Subreddit is currently  my favourite pastime. I get a daily digest of ChatGPT’s behaviour in the wild and marvel at the typically white/male/geek fascination for the tool.   Many discussions are obviously about whether it is actually intelligent 1/3</td>\n",
       "      <td>browsing through the chatgpt subreddit is currently my favourite pastime. i get a daily digest of chatgpt’s behaviour in the wild and marvel at the typically white/male/geek fascination for the tool. many discussions are obviously about whether it is actually intelligent 1/3</td>\n",
       "    </tr>\n",
       "    <tr>\n",
       "      <th>10</th>\n",
       "      <td>I find it really odd that #ChatGPT can return complete garbage to straight forward #mathematics questions \\n\\nThe calculations are wrong, and they are not Cullen primes!</td>\n",
       "      <td>i find it really odd that can return complete garbage to straight forward questions the calculations are wrong, and they are not cullen primes!</td>\n",
       "    </tr>\n",
       "    <tr>\n",
       "      <th>11</th>\n",
       "      <td>Thanks to ChatGPT, we are one step closer to getting the Giuseppi Stromboli and the Briefcase of Meatballs rewrite we deserve</td>\n",
       "      <td>thanks to chatgpt, we are one step closer to getting the giuseppi stromboli and the briefcase of meatballs rewrite we deserve</td>\n",
       "    </tr>\n",
       "    <tr>\n",
       "      <th>12</th>\n",
       "      <td>Heard someone say “ChatGPT is already replacing software engineers.” \\n\\nI’m tired of y’all.</td>\n",
       "      <td>heard someone say “chatgpt is already replacing software engineers.” i’m tired of y’all.</td>\n",
       "    </tr>\n",
       "    <tr>\n",
       "      <th>13</th>\n",
       "      <td>Unlikely, ChatGPT is usually coherent and well-constructed</td>\n",
       "      <td>unlikely, chatgpt is usually coherent and wellconstructed</td>\n",
       "    </tr>\n",
       "    <tr>\n",
       "      <th>14</th>\n",
       "      <td>There is going to be a anti-GPT movement.\\n\\n#ChatGPT</td>\n",
       "      <td>there is going to be a antigpt movement.</td>\n",
       "    </tr>\n",
       "    <tr>\n",
       "      <th>15</th>\n",
       "      <td>I am enamored by ChatGPT. It changed in one day what I can do, what I can know</td>\n",
       "      <td>i am enamored by chatgpt. it changed in one day what i can do, what i can know</td>\n",
       "    </tr>\n",
       "    <tr>\n",
       "      <th>16</th>\n",
       "      <td>Is this ChatGPT or David, really?</td>\n",
       "      <td>is this chatgpt or david, really?</td>\n",
       "    </tr>\n",
       "    <tr>\n",
       "      <th>17</th>\n",
       "      <td>6) Refresh ChatGPT again and eureka!\\n\\nYour chat history should be back again! #ChatgptHistoryfix #ChatgptHistoryresolve</td>\n",
       "      <td>6) refresh chatgpt again and eureka! your chat history should be back again!</td>\n",
       "    </tr>\n",
       "    <tr>\n",
       "      <th>18</th>\n",
       "      <td>Hi for anyone having issues with #Chatgpthistory here is a fix that temporarily will restore it for you\\n\\n1) Open the ChatGPT app on Chrome\\n\\n2) Click on three dots at top right then on More tools then developer tools as below</td>\n",
       "      <td>hi for anyone having issues with here is a fix that temporarily will restore it for you 1) open the chatgpt app on chrome 2) click on three dots at top right then on more tools then developer tools as below</td>\n",
       "    </tr>\n",
       "    <tr>\n",
       "      <th>19</th>\n",
       "      <td>Finally tried ChatGPT. I was disappointed in how unconvincing it was on LORs.</td>\n",
       "      <td>finally tried chatgpt. i was disappointed in how unconvincing it was on lors.</td>\n",
       "    </tr>\n",
       "  </tbody>\n",
       "</table>\n",
       "</div>"
      ],
      "text/plain": [
       "                                                                                                                                                                                                                                                                                     Tweet  \\\n",
       "0                                                                                                                                                                                                                                                        ChatGPT is another woke machine.    \n",
       "1                                                                                                                                                                                                        of the Atlantic, or only near the Atla #推特账号 more to me than the greenness or th    \n",
       "2                                                                                                                                                                                                                         This thread is saved to your Notion database.\\n\\nTags: [Chatgpt]   \n",
       "3                                                                                                                                                                                                                                                               Prompt AI – ChatGPT #0018    \n",
       "4                                                                                                               Just had some interesting conversations with Google's Bard. It appears more confident in its replies compared to ChatGPT. Early days though. Shape of things to come? Yes.   \n",
       "5                                                                                         Copilot has actually been useful for me though, it routinely writes chunks of code for me that require little to no modification. I haven't figured out how to leverage ChatGPT effectively yet.   \n",
       "6                          i had chatgpt analyze my ocs after askin a bunch of questions and it was really fun in the moment but i literally have nothing i can do with all these answers besides think about them bc who wants to hear character analysis on characters you cant even see   \n",
       "7        You are a smart guy Mark.  You should be able to recognize ChatGPT is brought to you by the same MONORAIL! salesmen who sold you Crypto, self driving, and NFTs. The technology is not what they claim it is.  You can tell by how the use case is \"writing\" poems abt your pets.   \n",
       "8                                                                                                                                                                                                                                                      I was just going to say ask ChatGPT   \n",
       "9   Browsing through the ChatGPT Subreddit is currently  my favourite pastime. I get a daily digest of ChatGPT’s behaviour in the wild and marvel at the typically white/male/geek fascination for the tool.   Many discussions are obviously about whether it is actually intelligent 1/3   \n",
       "10                                                                                                              I find it really odd that #ChatGPT can return complete garbage to straight forward #mathematics questions \\n\\nThe calculations are wrong, and they are not Cullen primes!    \n",
       "11                                                                                                                                                          Thanks to ChatGPT, we are one step closer to getting the Giuseppi Stromboli and the Briefcase of Meatballs rewrite we deserve    \n",
       "12                                                                                                                                                                                            Heard someone say “ChatGPT is already replacing software engineers.” \\n\\nI’m tired of y’all.   \n",
       "13                                                                                                                                                                                                                              Unlikely, ChatGPT is usually coherent and well-constructed   \n",
       "14                                                                                                                                                                                                                                   There is going to be a anti-GPT movement.\\n\\n#ChatGPT   \n",
       "15                                                                                                                                                                                                          I am enamored by ChatGPT. It changed in one day what I can do, what I can know   \n",
       "16                                                                                                                                                                                                                                                       Is this ChatGPT or David, really?   \n",
       "17                                                                                                                                                               6) Refresh ChatGPT again and eureka!\\n\\nYour chat history should be back again! #ChatgptHistoryfix #ChatgptHistoryresolve   \n",
       "18                                                   Hi for anyone having issues with #Chatgpthistory here is a fix that temporarily will restore it for you\\n\\n1) Open the ChatGPT app on Chrome\\n\\n2) Click on three dots at top right then on More tools then developer tools as below    \n",
       "19                                                                                                                                                                                                           Finally tried ChatGPT. I was disappointed in how unconvincing it was on LORs.   \n",
       "\n",
       "                                                                                                                                                                                                                                                                        processed_tweet  \n",
       "0                                                                                                                                                                                                                                                      chatgpt is another woke machine.  \n",
       "1                                                                                                                                                                                                            of the atlantic, or only near the atla more to me than the greenness or th  \n",
       "2                                                                                                                                                                                                                         this thread is saved to your notion database. tags: [chatgpt]  \n",
       "3                                                                                                                                                                                                                                                                   prompt ai – chatgpt  \n",
       "4                                                                                                             just had some interesting conversations with googles bard. it appears more confident in its replies compared to chatgpt. early days though. shape of things to come? yes.  \n",
       "5                                                                                       copilot has actually been useful for me though, it routinely writes chunks of code for me that require little to no modification. i havent figured out how to leverage chatgpt effectively yet.  \n",
       "6                       i had chatgpt analyze my ocs after askin a bunch of questions and it was really fun in the moment but i literally have nothing i can do with all these answers besides think about them bc who wants to hear character analysis on characters you cant even see  \n",
       "7       you are a smart guy mark. you should be able to recognize chatgpt is brought to you by the same monorail! salesmen who sold you crypto, self driving, and nfts. the technology is not what they claim it is. you can tell by how the use case is \"writing\" poems abt your pets.  \n",
       "8                                                                                                                                                                                                                                                   i was just going to say ask chatgpt  \n",
       "9   browsing through the chatgpt subreddit is currently my favourite pastime. i get a daily digest of chatgpt’s behaviour in the wild and marvel at the typically white/male/geek fascination for the tool. many discussions are obviously about whether it is actually intelligent 1/3  \n",
       "10                                                                                                                                      i find it really odd that can return complete garbage to straight forward questions the calculations are wrong, and they are not cullen primes!  \n",
       "11                                                                                                                                                        thanks to chatgpt, we are one step closer to getting the giuseppi stromboli and the briefcase of meatballs rewrite we deserve  \n",
       "12                                                                                                                                                                                             heard someone say “chatgpt is already replacing software engineers.” i’m tired of y’all.  \n",
       "13                                                                                                                                                                                                                            unlikely, chatgpt is usually coherent and wellconstructed  \n",
       "14                                                                                                                                                                                                                                             there is going to be a antigpt movement.  \n",
       "15                                                                                                                                                                                                       i am enamored by chatgpt. it changed in one day what i can do, what i can know  \n",
       "16                                                                                                                                                                                                                                                    is this chatgpt or david, really?  \n",
       "17                                                                                                                                                                                                         6) refresh chatgpt again and eureka! your chat history should be back again!  \n",
       "18                                                                       hi for anyone having issues with here is a fix that temporarily will restore it for you 1) open the chatgpt app on chrome 2) click on three dots at top right then on more tools then developer tools as below  \n",
       "19                                                                                                                                                                                                        finally tried chatgpt. i was disappointed in how unconvincing it was on lors.  "
      ]
     },
     "execution_count": 20,
     "metadata": {},
     "output_type": "execute_result"
    }
   ],
   "source": [
    "df.iloc[:,[3,-1]].head(20)"
   ]
  },
  {
   "cell_type": "markdown",
   "id": "547e5e41",
   "metadata": {},
   "source": [
    "## 4. Sentiment Analysis"
   ]
  },
  {
   "cell_type": "markdown",
   "id": "4e507ec1",
   "metadata": {},
   "source": [
    "* Since the labeling and scoring process takes a long time, I loaded a more executed and saved version of the data."
   ]
  },
  {
   "cell_type": "code",
   "execution_count": 21,
   "id": "f5da9437",
   "metadata": {},
   "outputs": [],
   "source": [
    "# !pip install datasets"
   ]
  },
  {
   "cell_type": "code",
   "execution_count": 4,
   "id": "bcb95069",
   "metadata": {},
   "outputs": [],
   "source": [
    "from datasets import load_metric\n",
    " \n",
    "def compute_metrics(eval_pred):\n",
    "   load_accuracy = load_metric(\"accuracy\")\n",
    "   load_f1 = load_metric(\"f1\")\n",
    "  \n",
    "   logits, labels = eval_pred\n",
    "   predictions = np.argmax(logits, axis=-1)\n",
    "   accuracy = load_accuracy.compute(predictions=predictions, references=labels)[\"accuracy\"]\n",
    "   f1 = load_f1.compute(predictions=predictions, references=labels)[\"f1\"]\n",
    "   return {\"accuracy\": accuracy, \"f1\": f1}"
   ]
  },
  {
   "cell_type": "code",
   "execution_count": 23,
   "id": "6fc8e1fd",
   "metadata": {},
   "outputs": [],
   "source": [
    "# df_test=df.head(20)\n",
    "df['sentiment_label']=\"-\"\n",
    "df['sentiment_score']= 0\n",
    "df['sentiment_score']=df['sentiment_score'].astype(float)"
   ]
  },
  {
   "cell_type": "code",
   "execution_count": 24,
   "id": "39025a70",
   "metadata": {},
   "outputs": [
    {
     "data": {
      "text/html": [
       "<div>\n",
       "<style scoped>\n",
       "    .dataframe tbody tr th:only-of-type {\n",
       "        vertical-align: middle;\n",
       "    }\n",
       "\n",
       "    .dataframe tbody tr th {\n",
       "        vertical-align: top;\n",
       "    }\n",
       "\n",
       "    .dataframe thead th {\n",
       "        text-align: right;\n",
       "    }\n",
       "</style>\n",
       "<table border=\"1\" class=\"dataframe\">\n",
       "  <thead>\n",
       "    <tr style=\"text-align: right;\">\n",
       "      <th></th>\n",
       "      <th>sentiment_label</th>\n",
       "      <th>sentiment_score</th>\n",
       "    </tr>\n",
       "  </thead>\n",
       "  <tbody>\n",
       "    <tr>\n",
       "      <th>0</th>\n",
       "      <td>-</td>\n",
       "      <td>0.0000</td>\n",
       "    </tr>\n",
       "    <tr>\n",
       "      <th>1</th>\n",
       "      <td>-</td>\n",
       "      <td>0.0000</td>\n",
       "    </tr>\n",
       "    <tr>\n",
       "      <th>2</th>\n",
       "      <td>-</td>\n",
       "      <td>0.0000</td>\n",
       "    </tr>\n",
       "    <tr>\n",
       "      <th>3</th>\n",
       "      <td>-</td>\n",
       "      <td>0.0000</td>\n",
       "    </tr>\n",
       "    <tr>\n",
       "      <th>4</th>\n",
       "      <td>-</td>\n",
       "      <td>0.0000</td>\n",
       "    </tr>\n",
       "    <tr>\n",
       "      <th>...</th>\n",
       "      <td>...</td>\n",
       "      <td>...</td>\n",
       "    </tr>\n",
       "    <tr>\n",
       "      <th>98754</th>\n",
       "      <td>-</td>\n",
       "      <td>0.0000</td>\n",
       "    </tr>\n",
       "    <tr>\n",
       "      <th>98755</th>\n",
       "      <td>-</td>\n",
       "      <td>0.0000</td>\n",
       "    </tr>\n",
       "    <tr>\n",
       "      <th>98756</th>\n",
       "      <td>-</td>\n",
       "      <td>0.0000</td>\n",
       "    </tr>\n",
       "    <tr>\n",
       "      <th>98757</th>\n",
       "      <td>-</td>\n",
       "      <td>0.0000</td>\n",
       "    </tr>\n",
       "    <tr>\n",
       "      <th>98758</th>\n",
       "      <td>-</td>\n",
       "      <td>0.0000</td>\n",
       "    </tr>\n",
       "  </tbody>\n",
       "</table>\n",
       "<p>98759 rows × 2 columns</p>\n",
       "</div>"
      ],
      "text/plain": [
       "      sentiment_label  sentiment_score\n",
       "0                   -           0.0000\n",
       "1                   -           0.0000\n",
       "2                   -           0.0000\n",
       "3                   -           0.0000\n",
       "4                   -           0.0000\n",
       "...               ...              ...\n",
       "98754               -           0.0000\n",
       "98755               -           0.0000\n",
       "98756               -           0.0000\n",
       "98757               -           0.0000\n",
       "98758               -           0.0000\n",
       "\n",
       "[98759 rows x 2 columns]"
      ]
     },
     "execution_count": 24,
     "metadata": {},
     "output_type": "execute_result"
    }
   ],
   "source": [
    "df.iloc[:,-2:]"
   ]
  },
  {
   "cell_type": "markdown",
   "id": "8f70eb45",
   "metadata": {},
   "source": [
    "df_test.head()"
   ]
  },
  {
   "cell_type": "markdown",
   "id": "d1367371",
   "metadata": {},
   "source": [
    "for i in range(len(df_test['processed_tweet'])):\n",
    "    tweet=df_test['processed_tweet'][i]\n",
    "    sentiment_label = sa(tweet)[0]['label']\n",
    "    sentiment_score = sa(tweet)[0]['score']\n",
    "    df_test['sentiment_label'][i] = sentiment_label\n",
    "    df_test['sentiment_score'][i] = sentiment_score\n",
    "    "
   ]
  },
  {
   "cell_type": "code",
   "execution_count": 5,
   "id": "592a670e",
   "metadata": {},
   "outputs": [],
   "source": [
    "def get_sentiment_analysis_1(col):\n",
    "    for i in range(len(col)):\n",
    "        try:\n",
    "            tweet=col[i]\n",
    "            sentiment_label = sa(tweet)[0]['label']\n",
    "            sentiment_score = sa(tweet)[0]['score']\n",
    "            df_part_1['sentiment_label'][i] = sentiment_label\n",
    "            df_part_1['sentiment_score'][i] = sentiment_score        \n",
    "        except:\n",
    "            pass\n",
    "        \n",
    "def get_sentiment_analysis_2(col):\n",
    "    for i in range(33565,48760):\n",
    "        try:\n",
    "            tweet=col[i]\n",
    "            sentiment_label = sa(tweet)[0]['label']\n",
    "            sentiment_score = sa(tweet)[0]['score']\n",
    "            df_part_2['sentiment_label'][i] = sentiment_label\n",
    "            df_part_2['sentiment_score'][i] = sentiment_score        \n",
    "        except:\n",
    "            pass"
   ]
  },
  {
   "cell_type": "code",
   "execution_count": 6,
   "id": "51784b6a",
   "metadata": {},
   "outputs": [],
   "source": [
    "from tqdm.notebook import tqdm\n",
    "tqdm.pandas()"
   ]
  },
  {
   "cell_type": "code",
   "execution_count": 6,
   "id": "efa2da4a",
   "metadata": {},
   "outputs": [],
   "source": [
    "df_part_2=pd.read_csv(\"df_part_2.csv\")"
   ]
  },
  {
   "cell_type": "code",
   "execution_count": null,
   "id": "4cf5f1b4",
   "metadata": {},
   "outputs": [],
   "source": [
    "get_sentiment_analysis_2(df_part_2[\"processed_tweet\"])"
   ]
  },
  {
   "cell_type": "code",
   "execution_count": 28,
   "id": "3dad30b7",
   "metadata": {
    "collapsed": true
   },
   "outputs": [
    {
     "ename": "AttributeError",
     "evalue": "module 'pandas' has no attribute 'to_csv'",
     "output_type": "error",
     "traceback": [
      "\u001b[1;31m---------------------------------------------------------------------------\u001b[0m",
      "\u001b[1;31mAttributeError\u001b[0m                            Traceback (most recent call last)",
      "\u001b[1;32m~\\AppData\\Local\\Temp/ipykernel_14804/1681732806.py\u001b[0m in \u001b[0;36m<module>\u001b[1;34m\u001b[0m\n\u001b[0;32m      5\u001b[0m \u001b[0mdf_part_2\u001b[0m \u001b[1;33m=\u001b[0m \u001b[0mdf\u001b[0m\u001b[1;33m[\u001b[0m\u001b[1;36m50000\u001b[0m\u001b[1;33m:\u001b[0m\u001b[1;33m]\u001b[0m\u001b[1;33m\u001b[0m\u001b[1;33m\u001b[0m\u001b[0m\n\u001b[0;32m      6\u001b[0m \u001b[1;33m\u001b[0m\u001b[0m\n\u001b[1;32m----> 7\u001b[1;33m \u001b[0mdf_part_1\u001b[0m \u001b[1;33m=\u001b[0m \u001b[0mpd\u001b[0m\u001b[1;33m.\u001b[0m\u001b[0mto_csv\u001b[0m\u001b[1;33m(\u001b[0m\u001b[1;34m'/df_part_1.csv'\u001b[0m\u001b[1;33m)\u001b[0m\u001b[1;33m\u001b[0m\u001b[1;33m\u001b[0m\u001b[0m\n\u001b[0m\u001b[0;32m      8\u001b[0m \u001b[0mdf_part_2\u001b[0m \u001b[1;33m=\u001b[0m \u001b[0mpd\u001b[0m\u001b[1;33m.\u001b[0m\u001b[0mto_csv\u001b[0m\u001b[1;33m(\u001b[0m\u001b[1;34m'/df_part_2.csv'\u001b[0m\u001b[1;33m)\u001b[0m\u001b[1;33m\u001b[0m\u001b[1;33m\u001b[0m\u001b[0m\n\u001b[0;32m      9\u001b[0m \u001b[1;33m\u001b[0m\u001b[0m\n",
      "\u001b[1;32m~\\anaconda3\\lib\\site-packages\\pandas\\__init__.py\u001b[0m in \u001b[0;36m__getattr__\u001b[1;34m(name)\u001b[0m\n\u001b[0;32m    242\u001b[0m         \u001b[1;32mreturn\u001b[0m \u001b[0m_SparseArray\u001b[0m\u001b[1;33m\u001b[0m\u001b[1;33m\u001b[0m\u001b[0m\n\u001b[0;32m    243\u001b[0m \u001b[1;33m\u001b[0m\u001b[0m\n\u001b[1;32m--> 244\u001b[1;33m     \u001b[1;32mraise\u001b[0m \u001b[0mAttributeError\u001b[0m\u001b[1;33m(\u001b[0m\u001b[1;34mf\"module 'pandas' has no attribute '{name}'\"\u001b[0m\u001b[1;33m)\u001b[0m\u001b[1;33m\u001b[0m\u001b[1;33m\u001b[0m\u001b[0m\n\u001b[0m\u001b[0;32m    245\u001b[0m \u001b[1;33m\u001b[0m\u001b[0m\n\u001b[0;32m    246\u001b[0m \u001b[1;33m\u001b[0m\u001b[0m\n",
      "\u001b[1;31mAttributeError\u001b[0m: module 'pandas' has no attribute 'to_csv'"
     ]
    }
   ],
   "source": [
    "df[\"sentiment_label\"] = \"-\"\n",
    "df[\"sentiment_score\"] = 0\n",
    "\n",
    "df_part_1 = df[:50000]\n",
    "df_part_2 = df[50000:]\n",
    "\n",
    "df_part_1.to_csv('df_part_1.csv')\n",
    "df_part_2.to_csv('df_part_2.csv')\n",
    "\n",
    "# df_part_1[[\"sentiment_label\", \"sentiment_score\"]] = df_part_1[\"processed_tweet\"].progress_apply(get_sentiment_analysis) #1 hours 6 minutes\n",
    "# df_part_2[[\"sentiment_label\", \"sentiment_score\"]] = df_part_2[\"processed_tweet\"].progress_apply(get_sentiment_analysis) #1 hours 3 minutes\n",
    "# df_part_3[[\"sentiment_label\", \"sentiment_score\"]] = df_part_3[\"processed_tweet\"].progress_apply(get_sentiment_analysis) #1 hours 3 minutes\n",
    "# df_part_4[[\"sentiment_label\", \"sentiment_score\"]] = df_part_4[\"processed_tweet\"].progress_apply(get_sentiment_analysis) # 59 minutes\n",
    "\n",
    "# df = pd.concat([df_part_1, df_part_2, df_part_3, df_part_4], axis=0)\n",
    "\n",
    "#df = pd.read_csv(\"/kaggle/input/tweets-about-chatgpt-march-2023/chatgpt-tweets-data-20230310-20230322-processed.csv\")"
   ]
  },
  {
   "cell_type": "code",
   "execution_count": 27,
   "id": "03b234c1",
   "metadata": {},
   "outputs": [],
   "source": [
    "df_processed_1=pd.read_csv(\"df_processed_1.csv\")\n",
    "df_processed_2=pd.read_csv(\"df_processed_2.csv\")\n",
    "df_processed_3=pd.read_csv(\"df_processed_3.csv\")"
   ]
  },
  {
   "cell_type": "code",
   "execution_count": 30,
   "id": "ee830f85",
   "metadata": {},
   "outputs": [
    {
     "data": {
      "text/html": [
       "<div>\n",
       "<style scoped>\n",
       "    .dataframe tbody tr th:only-of-type {\n",
       "        vertical-align: middle;\n",
       "    }\n",
       "\n",
       "    .dataframe tbody tr th {\n",
       "        vertical-align: top;\n",
       "    }\n",
       "\n",
       "    .dataframe thead th {\n",
       "        text-align: right;\n",
       "    }\n",
       "</style>\n",
       "<table border=\"1\" class=\"dataframe\">\n",
       "  <thead>\n",
       "    <tr style=\"text-align: right;\">\n",
       "      <th></th>\n",
       "      <th>Unnamed: 0</th>\n",
       "      <th>Unnamed: 0.1</th>\n",
       "      <th>ID</th>\n",
       "      <th>Date</th>\n",
       "      <th>Username</th>\n",
       "      <th>Tweet</th>\n",
       "      <th>ReplyCount</th>\n",
       "      <th>RetweetCount</th>\n",
       "      <th>LikeCount</th>\n",
       "      <th>QuoteCount</th>\n",
       "      <th>OnlyDate</th>\n",
       "      <th>OnlyHour</th>\n",
       "      <th>OnlyMin</th>\n",
       "      <th>processed_tweet</th>\n",
       "      <th>sentiment_label</th>\n",
       "      <th>sentiment_score</th>\n",
       "    </tr>\n",
       "  </thead>\n",
       "  <tbody>\n",
       "    <tr>\n",
       "      <th>0</th>\n",
       "      <td>33565</td>\n",
       "      <td>83565</td>\n",
       "      <td>1636765592857329669</td>\n",
       "      <td>2023-03-17 16:25:01+00:00</td>\n",
       "      <td>eudmx92980</td>\n",
       "      <td>So, if I'm using \"Try ChatGPT\" on OpenAI's we...</td>\n",
       "      <td>0</td>\n",
       "      <td>0</td>\n",
       "      <td>0</td>\n",
       "      <td>0</td>\n",
       "      <td>2023-03-17</td>\n",
       "      <td>16</td>\n",
       "      <td>25</td>\n",
       "      <td>so, if im using \"try chatgpt\" on openais websi...</td>\n",
       "      <td>neutral</td>\n",
       "      <td>0.9403</td>\n",
       "    </tr>\n",
       "    <tr>\n",
       "      <th>1</th>\n",
       "      <td>33566</td>\n",
       "      <td>83566</td>\n",
       "      <td>1636765585702027265</td>\n",
       "      <td>2023-03-17 16:24:59+00:00</td>\n",
       "      <td>jiqfh02029</td>\n",
       "      <td>You don’t think Bard will be competitive with...</td>\n",
       "      <td>1</td>\n",
       "      <td>0</td>\n",
       "      <td>2</td>\n",
       "      <td>0</td>\n",
       "      <td>2023-03-17</td>\n",
       "      <td>16</td>\n",
       "      <td>24</td>\n",
       "      <td>you don’t think bard will be competitive with ...</td>\n",
       "      <td>neutral</td>\n",
       "      <td>0.7201</td>\n",
       "    </tr>\n",
       "    <tr>\n",
       "      <th>2</th>\n",
       "      <td>33567</td>\n",
       "      <td>83567</td>\n",
       "      <td>1636765570325528589</td>\n",
       "      <td>2023-03-17 16:24:56+00:00</td>\n",
       "      <td>zlchq88642</td>\n",
       "      <td>Further thoughts on authorship and the human n...</td>\n",
       "      <td>0</td>\n",
       "      <td>0</td>\n",
       "      <td>3</td>\n",
       "      <td>0</td>\n",
       "      <td>2023-03-17</td>\n",
       "      <td>16</td>\n",
       "      <td>24</td>\n",
       "      <td>further thoughts on authorship and the human n...</td>\n",
       "      <td>neutral</td>\n",
       "      <td>0.9134</td>\n",
       "    </tr>\n",
       "    <tr>\n",
       "      <th>3</th>\n",
       "      <td>33568</td>\n",
       "      <td>83568</td>\n",
       "      <td>1636765550574551051</td>\n",
       "      <td>2023-03-17 16:24:51+00:00</td>\n",
       "      <td>niswv17848</td>\n",
       "      <td>Music time 🔥🔥🔥</td>\n",
       "      <td>0</td>\n",
       "      <td>0</td>\n",
       "      <td>0</td>\n",
       "      <td>0</td>\n",
       "      <td>2023-03-17</td>\n",
       "      <td>16</td>\n",
       "      <td>24</td>\n",
       "      <td>music time</td>\n",
       "      <td>positive</td>\n",
       "      <td>0.5587</td>\n",
       "    </tr>\n",
       "    <tr>\n",
       "      <th>4</th>\n",
       "      <td>33569</td>\n",
       "      <td>83569</td>\n",
       "      <td>1636765543314370560</td>\n",
       "      <td>2023-03-17 16:24:49+00:00</td>\n",
       "      <td>jjnpm39605</td>\n",
       "      <td>#Leaders #AI\\n🎯#Bloomberg, Lucy Papachristou a...</td>\n",
       "      <td>1</td>\n",
       "      <td>0</td>\n",
       "      <td>1</td>\n",
       "      <td>0</td>\n",
       "      <td>2023-03-17</td>\n",
       "      <td>16</td>\n",
       "      <td>24</td>\n",
       "      <td>lucy papachristou and jillian deutsch: advance...</td>\n",
       "      <td>neutral</td>\n",
       "      <td>0.7252</td>\n",
       "    </tr>\n",
       "  </tbody>\n",
       "</table>\n",
       "</div>"
      ],
      "text/plain": [
       "   Unnamed: 0  Unnamed: 0.1                   ID                       Date  \\\n",
       "0       33565         83565  1636765592857329669  2023-03-17 16:25:01+00:00   \n",
       "1       33566         83566  1636765585702027265  2023-03-17 16:24:59+00:00   \n",
       "2       33567         83567  1636765570325528589  2023-03-17 16:24:56+00:00   \n",
       "3       33568         83568  1636765550574551051  2023-03-17 16:24:51+00:00   \n",
       "4       33569         83569  1636765543314370560  2023-03-17 16:24:49+00:00   \n",
       "\n",
       "     Username                                              Tweet  ReplyCount  \\\n",
       "0  eudmx92980   So, if I'm using \"Try ChatGPT\" on OpenAI's we...           0   \n",
       "1  jiqfh02029   You don’t think Bard will be competitive with...           1   \n",
       "2  zlchq88642  Further thoughts on authorship and the human n...           0   \n",
       "3  niswv17848                                     Music time 🔥🔥🔥           0   \n",
       "4  jjnpm39605  #Leaders #AI\\n🎯#Bloomberg, Lucy Papachristou a...           1   \n",
       "\n",
       "   RetweetCount  LikeCount  QuoteCount    OnlyDate  OnlyHour  OnlyMin  \\\n",
       "0             0          0           0  2023-03-17        16       25   \n",
       "1             0          2           0  2023-03-17        16       24   \n",
       "2             0          3           0  2023-03-17        16       24   \n",
       "3             0          0           0  2023-03-17        16       24   \n",
       "4             0          1           0  2023-03-17        16       24   \n",
       "\n",
       "                                     processed_tweet sentiment_label  \\\n",
       "0  so, if im using \"try chatgpt\" on openais websi...         neutral   \n",
       "1  you don’t think bard will be competitive with ...         neutral   \n",
       "2  further thoughts on authorship and the human n...         neutral   \n",
       "3                                         music time        positive   \n",
       "4  lucy papachristou and jillian deutsch: advance...         neutral   \n",
       "\n",
       "   sentiment_score  \n",
       "0           0.9403  \n",
       "1           0.7201  \n",
       "2           0.9134  \n",
       "3           0.5587  \n",
       "4           0.7252  "
      ]
     },
     "execution_count": 30,
     "metadata": {},
     "output_type": "execute_result"
    }
   ],
   "source": [
    "df_processed_3.head()"
   ]
  },
  {
   "cell_type": "code",
   "execution_count": 31,
   "id": "546a0a7d",
   "metadata": {},
   "outputs": [
    {
     "name": "stdout",
     "output_type": "stream",
     "text": [
      "<class 'pandas.core.frame.DataFrame'>\n",
      "Int64Index: 98760 entries, 0 to 15193\n",
      "Data columns (total 16 columns):\n",
      " #   Column           Non-Null Count  Dtype  \n",
      "---  ------           --------------  -----  \n",
      " 0   Unnamed: 0       98760 non-null  int64  \n",
      " 1   Unnamed: 0.1     98760 non-null  int64  \n",
      " 2   ID               98760 non-null  int64  \n",
      " 3   Date             98760 non-null  object \n",
      " 4   Username         98760 non-null  object \n",
      " 5   Tweet            98760 non-null  object \n",
      " 6   ReplyCount       98760 non-null  int64  \n",
      " 7   RetweetCount     98760 non-null  int64  \n",
      " 8   LikeCount        98760 non-null  int64  \n",
      " 9   QuoteCount       98760 non-null  int64  \n",
      " 10  OnlyDate         98760 non-null  object \n",
      " 11  OnlyHour         98759 non-null  float64\n",
      " 12  OnlyMin          98759 non-null  float64\n",
      " 13  processed_tweet  98757 non-null  object \n",
      " 14  sentiment_label  98759 non-null  object \n",
      " 15  sentiment_score  98759 non-null  float64\n",
      "dtypes: float64(3), int64(7), object(6)\n",
      "memory usage: 12.8+ MB\n"
     ]
    }
   ],
   "source": [
    "df2 = pd.concat([df_processed_1, df_processed_2, df_processed_3], axis=0)\n",
    "\n",
    "df2.drop(df2.columns[[0,1]], axis=1, inplace=True)\n",
    "df2.reset_index(inplace = True,drop=True)\n",
    "df2.tail()\n",
    "df2.info()\n",
    "df2.to_csv(\"df2.csv\")"
   ]
  },
  {
   "cell_type": "code",
   "execution_count": 40,
   "id": "be6cf5e3",
   "metadata": {},
   "outputs": [],
   "source": []
  },
  {
   "cell_type": "code",
   "execution_count": 52,
   "id": "77f3d38e",
   "metadata": {},
   "outputs": [],
   "source": []
  },
  {
   "cell_type": "markdown",
   "id": "ff4b7497",
   "metadata": {},
   "source": [
    "### 4.1 Label Frequencies"
   ]
  },
  {
   "cell_type": "code",
   "execution_count": 50,
   "id": "93f39d0d",
   "metadata": {},
   "outputs": [
    {
     "data": {
      "text/plain": [
       "<AxesSubplot:>"
      ]
     },
     "execution_count": 50,
     "metadata": {},
     "output_type": "execute_result"
    },
    {
     "data": {
      "image/png": "[encoded data removed]",
      "text/plain": [
       "<Figure size 576x432 with 1 Axes>"
      ]
     },
     "metadata": {
      "needs_background": "light"
     },
     "output_type": "display_data"
    }
   ],
   "source": [
    "sentiment_counts = df.sentiment_label.value_counts()\n",
    "fig, ax = plt.subplots(figsize=(8,6))\n",
    "sentiment_counts.plot(kind='bar', ax=ax)"
   ]
  },
  {
   "cell_type": "code",
   "execution_count": 46,
   "id": "406e2a65",
   "metadata": {},
   "outputs": [
    {
     "ename": "AttributeError",
     "evalue": "'DataFrame' object has no attribute 'sentiment_label'",
     "output_type": "error",
     "traceback": [
      "\u001b[1;31m---------------------------------------------------------------------------\u001b[0m",
      "\u001b[1;31mAttributeError\u001b[0m                            Traceback (most recent call last)",
      "\u001b[1;32m~\\AppData\\Local\\Temp/ipykernel_19816/2402873005.py\u001b[0m in \u001b[0;36m<module>\u001b[1;34m\u001b[0m\n\u001b[0;32m      1\u001b[0m \u001b[1;31m# count the frequency of each sentiment label\u001b[0m\u001b[1;33m\u001b[0m\u001b[1;33m\u001b[0m\u001b[1;33m\u001b[0m\u001b[0m\n\u001b[1;32m----> 2\u001b[1;33m \u001b[0msentiment_counts\u001b[0m \u001b[1;33m=\u001b[0m \u001b[0mdf\u001b[0m\u001b[1;33m.\u001b[0m\u001b[0msentiment_label\u001b[0m\u001b[1;33m.\u001b[0m\u001b[0mvalue_counts\u001b[0m\u001b[1;33m(\u001b[0m\u001b[1;33m)\u001b[0m\u001b[1;33m\u001b[0m\u001b[1;33m\u001b[0m\u001b[0m\n\u001b[0m\u001b[0;32m      3\u001b[0m \u001b[1;33m\u001b[0m\u001b[0m\n\u001b[0;32m      4\u001b[0m \u001b[1;31m# create a column plot\u001b[0m\u001b[1;33m\u001b[0m\u001b[1;33m\u001b[0m\u001b[1;33m\u001b[0m\u001b[0m\n\u001b[0;32m      5\u001b[0m \u001b[0mfig\u001b[0m\u001b[1;33m,\u001b[0m \u001b[0max\u001b[0m \u001b[1;33m=\u001b[0m \u001b[0mplt\u001b[0m\u001b[1;33m.\u001b[0m\u001b[0msubplots\u001b[0m\u001b[1;33m(\u001b[0m\u001b[0mfigsize\u001b[0m\u001b[1;33m=\u001b[0m\u001b[1;33m(\u001b[0m\u001b[1;36m8\u001b[0m\u001b[1;33m,\u001b[0m\u001b[1;36m6\u001b[0m\u001b[1;33m)\u001b[0m\u001b[1;33m)\u001b[0m\u001b[1;33m\u001b[0m\u001b[1;33m\u001b[0m\u001b[0m\n",
      "\u001b[1;32m~\\anaconda3\\lib\\site-packages\\pandas\\core\\generic.py\u001b[0m in \u001b[0;36m__getattr__\u001b[1;34m(self, name)\u001b[0m\n\u001b[0;32m   5485\u001b[0m         ):\n\u001b[0;32m   5486\u001b[0m             \u001b[1;32mreturn\u001b[0m \u001b[0mself\u001b[0m\u001b[1;33m[\u001b[0m\u001b[0mname\u001b[0m\u001b[1;33m]\u001b[0m\u001b[1;33m\u001b[0m\u001b[1;33m\u001b[0m\u001b[0m\n\u001b[1;32m-> 5487\u001b[1;33m         \u001b[1;32mreturn\u001b[0m \u001b[0mobject\u001b[0m\u001b[1;33m.\u001b[0m\u001b[0m__getattribute__\u001b[0m\u001b[1;33m(\u001b[0m\u001b[0mself\u001b[0m\u001b[1;33m,\u001b[0m \u001b[0mname\u001b[0m\u001b[1;33m)\u001b[0m\u001b[1;33m\u001b[0m\u001b[1;33m\u001b[0m\u001b[0m\n\u001b[0m\u001b[0;32m   5488\u001b[0m \u001b[1;33m\u001b[0m\u001b[0m\n\u001b[0;32m   5489\u001b[0m     \u001b[1;32mdef\u001b[0m \u001b[0m__setattr__\u001b[0m\u001b[1;33m(\u001b[0m\u001b[0mself\u001b[0m\u001b[1;33m,\u001b[0m \u001b[0mname\u001b[0m\u001b[1;33m:\u001b[0m \u001b[0mstr\u001b[0m\u001b[1;33m,\u001b[0m \u001b[0mvalue\u001b[0m\u001b[1;33m)\u001b[0m \u001b[1;33m->\u001b[0m \u001b[1;32mNone\u001b[0m\u001b[1;33m:\u001b[0m\u001b[1;33m\u001b[0m\u001b[1;33m\u001b[0m\u001b[0m\n",
      "\u001b[1;31mAttributeError\u001b[0m: 'DataFrame' object has no attribute 'sentiment_label'"
     ]
    }
   ],
   "source": [
    "# count the frequency of each sentiment label\n",
    "sentiment_counts = df.sentiment_label.value_counts()\n",
    "\n",
    "# create a column plot\n",
    "fig, ax = plt.subplots(figsize=(8,6))\n",
    "sentiment_counts.plot(kind='bar', ax=ax)\n",
    "\n",
    "# set the plot title and axis labels\n",
    "ax.set_title('Sentiment Label Frequencies')\n",
    "ax.set_xlabel('Sentiment Label')\n",
    "ax.set_ylabel('Frequency')\n",
    "\n",
    "# add data labels to the top of each column\n",
    "for i, freq in enumerate(sentiment_counts):\n",
    "    ax.text(i, freq, str(freq), ha='center', va='bottom')\n",
    "\n",
    "# display the plot\n",
    "plt.show()"
   ]
  },
  {
   "cell_type": "code",
   "execution_count": null,
   "id": "ba140e26",
   "metadata": {},
   "outputs": [],
   "source": []
  }
 ],
 "metadata": {
  "kernelspec": {
   "display_name": "Python 3 (ipykernel)",
   "language": "python",
   "name": "python3"
  },
  "language_info": {
   "codemirror_mode": {
    "name": "ipython",
    "version": 3
   },
   "file_extension": ".py",
   "mimetype": "text/x-python",
   "name": "python",
   "nbconvert_exporter": "python",
   "pygments_lexer": "ipython3",
   "version": "3.8.12"
  }
 },
 "nbformat": 4,
 "nbformat_minor": 5
}
